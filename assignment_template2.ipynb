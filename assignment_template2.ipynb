{
 "cells": [
  {
   "cell_type": "code",
   "execution_count": 1,
   "id": "b0721db8",
   "metadata": {},
   "outputs": [
    {
     "data": {
      "text/plain": [
       "'\\nAdd here the functions need.\\n'"
      ]
     },
     "execution_count": 1,
     "metadata": {},
     "output_type": "execute_result"
    }
   ],
   "source": [
    "#- Python version 3.8.10 is recommended\n",
    "\n",
    "\n",
    "#The following template is provided as a guideline only. You can modify it as you need.\n",
    "\n",
    "#introduce something here \" = \"\"\n",
    "\n",
    "# -libraries\n",
    "import numpy\n",
    "import sklearn\n",
    "import sklearn.datasets\n",
    "import sklearn.model_selection\n",
    "import sklearn.decomposition\n",
    "\n",
    "\n",
    "##- visualization\n",
    "import matplotlib.pyplot as plt\n",
    "\n",
    "'''\n",
    "Add here the functions need.\n",
    "'''"
   ]
  },
  {
   "cell_type": "code",
   "execution_count": 20,
   "id": "b26d3ab9",
   "metadata": {},
   "outputs": [],
   "source": [
    "# #- loading data\n",
    "digits = sklearn.datasets.load_digits()\n",
    "X = digits.data\n",
    "Y = digits.target"
   ]
  },
  {
   "cell_type": "markdown",
   "id": "7e13f957",
   "metadata": {},
   "source": [
    "# Data analysis"
   ]
  },
  {
   "cell_type": "code",
   "execution_count": 4,
   "id": "d5c537b9",
   "metadata": {},
   "outputs": [
    {
     "name": "stdout",
     "output_type": "stream",
     "text": [
      ".. _digits_dataset:\n",
      "\n",
      "Optical recognition of handwritten digits dataset\n",
      "--------------------------------------------------\n",
      "\n",
      "**Data Set Characteristics:**\n",
      "\n",
      "    :Number of Instances: 1797\n",
      "    :Number of Attributes: 64\n",
      "    :Attribute Information: 8x8 image of integer pixels in the range 0..16.\n",
      "    :Missing Attribute Values: None\n",
      "    :Creator: E. Alpaydin (alpaydin '@' boun.edu.tr)\n",
      "    :Date: July; 1998\n",
      "\n",
      "This is a copy of the test set of the UCI ML hand-written digits datasets\n",
      "https://archive.ics.uci.edu/ml/datasets/Optical+Recognition+of+Handwritten+Digits\n",
      "\n",
      "The data set contains images of hand-written digits: 10 classes where\n",
      "each class refers to a digit.\n",
      "\n",
      "Preprocessing programs made available by NIST were used to extract\n",
      "normalized bitmaps of handwritten digits from a preprinted form. From a\n",
      "total of 43 people, 30 contributed to the training set and different 13\n",
      "to the test set. 32x32 bitmaps are divided into nonoverlapping blocks of\n",
      "4x4 and the number of on pixels are counted in each block. This generates\n",
      "an input matrix of 8x8 where each element is an integer in the range\n",
      "0..16. This reduces dimensionality and gives invariance to small\n",
      "distortions.\n",
      "\n",
      "For info on NIST preprocessing routines, see M. D. Garris, J. L. Blue, G.\n",
      "T. Candela, D. L. Dimmick, J. Geist, P. J. Grother, S. A. Janet, and C.\n",
      "L. Wilson, NIST Form-Based Handprint Recognition System, NISTIR 5469,\n",
      "1994.\n",
      "\n",
      ".. topic:: References\n",
      "\n",
      "  - C. Kaynak (1995) Methods of Combining Multiple Classifiers and Their\n",
      "    Applications to Handwritten Digit Recognition, MSc Thesis, Institute of\n",
      "    Graduate Studies in Science and Engineering, Bogazici University.\n",
      "  - E. Alpaydin, C. Kaynak (1998) Cascading Classifiers, Kybernetika.\n",
      "  - Ken Tang and Ponnuthurai N. Suganthan and Xi Yao and A. Kai Qin.\n",
      "    Linear dimensionalityreduction using relevance weighted LDA. School of\n",
      "    Electrical and Electronic Engineering Nanyang Technological University.\n",
      "    2005.\n",
      "  - Claudio Gentile. A New Approximate Maximal Margin Classification\n",
      "    Algorithm. NIPS. 2000.\n",
      "\n"
     ]
    }
   ],
   "source": [
    "print(digits['DESCR'])"
   ]
  },
  {
   "cell_type": "markdown",
   "id": "b71bdc3c",
   "metadata": {},
   "source": [
    "## Digit Visualization Example"
   ]
  },
  {
   "cell_type": "code",
   "execution_count": 5,
   "id": "e811d7cf",
   "metadata": {},
   "outputs": [
    {
     "data": {
      "image/png": "[encoded data removed]",
      "text/plain": [
       "<Figure size 640x480 with 1 Axes>"
      ]
     },
     "metadata": {},
     "output_type": "display_data"
    }
   ],
   "source": [
    "plt.imshow(digits.images[1021], cmap=plt.cm.gray_r, interpolation='nearest')\n",
    "plt.show()"
   ]
  },
  {
   "cell_type": "markdown",
   "id": "7d03fd32",
   "metadata": {},
   "source": [
    "### Digit Shape"
   ]
  },
  {
   "cell_type": "code",
   "execution_count": 6,
   "id": "31aba5ec",
   "metadata": {},
   "outputs": [
    {
     "name": "stdout",
     "output_type": "stream",
     "text": [
      "(1797, 8, 8)\n",
      "(1797, 64)\n"
     ]
    }
   ],
   "source": [
    "print(digits.images.shape)\n",
    "print(digits.data.shape)"
   ]
  },
  {
   "cell_type": "markdown",
   "id": "efaf52b9",
   "metadata": {},
   "source": [
    "### Digit Target Data"
   ]
  },
  {
   "cell_type": "code",
   "execution_count": 17,
   "id": "5136dec7",
   "metadata": {},
   "outputs": [
    {
     "name": "stdout",
     "output_type": "stream",
     "text": [
      "[0 1 2 ... 8 9 8]\n"
     ]
    }
   ],
   "source": [
    "print(digits.target)"
   ]
  },
  {
   "cell_type": "code",
   "execution_count": 23,
   "id": "46d7c824",
   "metadata": {},
   "outputs": [],
   "source": [
    "##- split the data 75% train and 25% test subsets\n",
    "from sklearn.model_selection import train_test_split\n",
    "\n",
    "x_train, x_test, y_train, y_test = train_test_split(X, Y, test_size = 0.25, random_state=42, stratify=Y)\n"
   ]
  },
  {
   "cell_type": "code",
   "execution_count": 26,
   "id": "c477096f",
   "metadata": {},
   "outputs": [
    {
     "name": "stdout",
     "output_type": "stream",
     "text": [
      "(Num images, Image size)\n",
      "(1347, 64)\n",
      "(450, 64)\n",
      "(Predicted number)\n",
      "(1347,)\n",
      "(450,)\n"
     ]
    }
   ],
   "source": [
    "print(\"(Num images, Image size)\")\n",
    "print(x_train.shape)\n",
    "print(x_test.shape)\n",
    "print(\"(Predicted number)\")\n",
    "print(y_train.shape)\n",
    "print(y_test.shape)\n"
   ]
  },
  {
   "cell_type": "code",
   "execution_count": 30,
   "id": "42b7fe94",
   "metadata": {},
   "outputs": [],
   "source": [
    "##- Data normalization by zero mean and unit variance\n",
    "from sklearn import preprocessing\n",
    "\n",
    "scaler = preprocessing.StandardScaler().fit(x_train)\n",
    "x_train_scaled = scaler.transform(x_train)"
   ]
  },
  {
   "cell_type": "code",
   "execution_count": 38,
   "id": "069f4de3",
   "metadata": {},
   "outputs": [
    {
     "name": "stdout",
     "output_type": "stream",
     "text": [
      "Showing that scaled data has zero mean and unit variance:\n",
      "Mean\n",
      "[ 0.00000000e+00 -8.43176061e-17  8.16801052e-17 -2.03252411e-16\n",
      "  1.10816248e-16  2.53859459e-17 -1.68882478e-16  1.51058742e-16\n",
      "  1.05293980e-17  2.08527413e-16  1.89735219e-16  7.28609617e-17\n",
      " -2.12153977e-16 -4.12521621e-17  3.24742295e-16  3.82643682e-16\n",
      "  1.32019282e-16  2.95400098e-16 -2.90125096e-17 -1.36820358e-16\n",
      " -3.68129700e-17  2.30781327e-17 -7.47566654e-17  2.26701442e-16\n",
      " -3.00968728e-16  2.91155370e-17  6.05800982e-17 -4.45078273e-17\n",
      "  6.92343980e-17 -6.98937732e-17 -2.15615697e-16  1.55664065e-16\n",
      "  0.00000000e+00 -2.96224317e-16 -6.69265847e-17  1.70943025e-16\n",
      " -1.63195367e-16 -1.91878189e-16 -3.51117304e-17  0.00000000e+00\n",
      "  3.10565728e-16  1.70448494e-16 -5.52226746e-17 -8.72023727e-17\n",
      "  3.84086065e-17  5.82722850e-17 -1.25610979e-16 -1.43764403e-16\n",
      " -1.55694974e-16 -3.36281362e-17  4.82168129e-17  1.47535205e-17\n",
      " -1.52315676e-16  5.15136890e-18  3.29028234e-16  3.29069445e-16\n",
      " -3.40309732e-16  1.61876616e-16  3.99746226e-18 -3.68096216e-16\n",
      " -8.77793260e-17 -6.21461144e-17 -1.47205518e-16 -2.50562583e-17]\n",
      "Variance\n",
      "[0. 1. 1. 1. 1. 1. 1. 1. 1. 1. 1. 1. 1. 1. 1. 1. 1. 1. 1. 1. 1. 1. 1. 1.\n",
      " 1. 1. 1. 1. 1. 1. 1. 1. 0. 1. 1. 1. 1. 1. 1. 0. 1. 1. 1. 1. 1. 1. 1. 1.\n",
      " 1. 1. 1. 1. 1. 1. 1. 1. 1. 1. 1. 1. 1. 1. 1. 1.]\n"
     ]
    }
   ],
   "source": [
    "print(\"Showing that scaled data has zero mean and unit variance:\")\n",
    "print(\"Mean\")\n",
    "print(x_train_scaled.mean(axis=0))\n",
    "print(\"Variance\")\n",
    "print(x_train_scaled.std(axis=0))"
   ]
  },
  {
   "cell_type": "code",
   "execution_count": 40,
   "id": "30978b75",
   "metadata": {},
   "outputs": [
    {
     "name": "stdout",
     "output_type": "stream",
     "text": [
      "Mean\n",
      "[ 0.         -0.33202001 -1.10109923 -2.78956289 -2.7458091  -1.0323078\n",
      " -0.40150884 -0.11708307 -0.06304883 -0.62794971 -1.94095795 -2.97764414\n",
      " -2.13780345 -1.37864259 -0.51685459 -0.12179262 -0.03856149 -0.73441928\n",
      " -1.75569622 -1.19662047 -1.14320514 -1.2653785  -0.54670184 -0.11093675\n",
      " -0.02725696 -0.7895599  -1.49039565 -1.48553053 -1.61337106 -1.27412003\n",
      " -0.62792685 -0.04724556  0.         -0.6678523  -1.2151604  -1.45779963\n",
      " -1.75568083 -1.48390051 -0.81646795  0.         -0.06817008 -0.52795421\n",
      " -1.05653068 -1.13322273 -1.21564389 -1.45307254 -0.81562819 -0.08487173\n",
      " -0.03803606 -0.4005698  -1.33322224 -1.83815003 -1.79458952 -1.45137801\n",
      " -0.76607114 -0.19699467 -0.02725696 -0.2976213  -1.09421832 -2.78396408\n",
      " -2.39450727 -1.16658906 -0.50750528 -0.19071697]\n",
      "Variance\n",
      "[ 0.          1.08815316  0.21300886  0.23621935  0.23168409  0.17706846\n",
      "  0.30214101  1.01096728 10.61584717  0.31397486  0.1855682   0.24938672\n",
      "  0.20844164  0.16524574  0.28312449  1.22428848 25.97116645  0.27874409\n",
      "  0.17625002  0.17242702  0.16190698  0.16076824  0.31269952  2.26411818\n",
      " 36.71512962  0.31756858  0.16271381  0.16777141  0.16312947  0.16957214\n",
      "  0.27372733 21.21325605  0.          0.28695281  0.15954977  0.16005022\n",
      "  0.16942987  0.17097032  0.28272039  0.         10.20278893  0.33015521\n",
      "  0.15357147  0.15564913  0.15811822  0.17721039  0.23505588  3.36241818\n",
      "  4.26954767  0.55226972  0.17661786  0.19166962  0.19097109  0.16579089\n",
      "  0.20365065  1.05298342 36.71512962  1.0690557   0.19818638  0.2294139\n",
      "  0.20305976  0.17004604  0.24572596  0.5988246 ]\n"
     ]
    }
   ],
   "source": [
    "# apply scaling on testing data having into account x_train statistics\n",
    "x_test_scaled = scaler.transform (x_test_scaled)\n",
    "print(\"Mean\")\n",
    "print(x_test_scaled.mean(axis=0))\n",
    "print(\"Variance\")\n",
    "print(x_test_scaled.std(axis=0))"
   ]
  },
  {
   "cell_type": "code",
   "execution_count": null,
   "id": "8905ddef",
   "metadata": {},
   "outputs": [],
   "source": [
    "##- Dimensionality reduction: PCA and SVD analysis\n",
    "from sklearn.decomposition import PCA\n",
    "from sklearn.decomposition import TruncatedSVD\n",
    "##- PCA Analysis\n",
    "pca= PCA().fit(x_train_scaled)\n",
    "##- the PCA explains a part of the variance. Plot the cumulative variance to get the number of principal\n",
    "## components we need.\n",
    "\"\""
   ]
  },
  {
   "cell_type": "code",
   "execution_count": null,
   "id": "c0711b8a",
   "metadata": {},
   "outputs": [],
   "source": [
    "##- SVD Analysis\n",
    "tsvd = TruncatedSVD().fit_transform(x_train_scaled)\n",
    "## - Same analysis as PCA: you have to obtain the best number of components for SVD.\n",
    "\"\""
   ]
  },
  {
   "cell_type": "code",
   "execution_count": null,
   "id": "5fc9fcfd",
   "metadata": {},
   "outputs": [],
   "source": [
    "## Apply a dimension reduction choosing a 95% of variance explained (x_pca_train, x_tsvd_train, x_pca_test...)\n",
    "\"\""
   ]
  },
  {
   "cell_type": "code",
   "execution_count": null,
   "id": "9b161835",
   "metadata": {},
   "outputs": [],
   "source": [
    "##- Find the k optimal value for the k-NN classifier using 10-fold cross-validation\n",
    "##\n",
    "\"\"\n",
    "##- create the knn classifier\n",
    "from sklearn import KNeighborsClassifier\n",
    "clf = KNeighborsClassifier(\"\")"
   ]
  },
  {
   "cell_type": "code",
   "execution_count": null,
   "id": "f8a16ed3",
   "metadata": {},
   "outputs": [],
   "source": [
    "##- learn the digits on the train subset\n",
    "\n",
    "clf.fit(x_train_scaled, y_train) # you should also use preprocessed x data\n",
    "\n",
    "##- predict the value of the digit on the test subset\n",
    "\n",
    "predicted = clf.predict(x_test_scaled)"
   ]
  },
  {
   "cell_type": "code",
   "execution_count": null,
   "id": "d152ae03",
   "metadata": {},
   "outputs": [],
   "source": [
    "##- print the metrics\n",
    "\"\"\n",
    "##- k neighbours analysis: different clsssifier performances varyng the number of k\n",
    "\"\""
   ]
  }
 ],
 "metadata": {
  "kernelspec": {
   "display_name": "Python 3 (ipykernel)",
   "language": "python",
   "name": "python3"
  },
  "language_info": {
   "codemirror_mode": {
    "name": "ipython",
    "version": 3
   },
   "file_extension": ".py",
   "mimetype": "text/x-python",
   "name": "python",
   "nbconvert_exporter": "python",
   "pygments_lexer": "ipython3",
   "version": "3.9.13"
  }
 },
 "nbformat": 4,
 "nbformat_minor": 5
}
